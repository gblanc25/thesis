{
 "cells": [
  {
   "cell_type": "code",
   "execution_count": 4,
   "id": "bf19e36a-9530-4e3f-bbbe-1f0409bf4549",
   "metadata": {},
   "outputs": [],
   "source": [
    "import osmnx as ox\n",
    "\n",
    "def convert_to_geojson(city, formal_city):\n",
    "    # Download the Massachusetts OSM data (make sure to download the .osm.pbf file first)\n",
    "    city_fp = f'{city}-latest.osm.pbf'\n",
    "\n",
    "    # Define the boundaries of Boston (this will automatically query OSM for Boston's polygon)\n",
    "    city_boundary = ox.geocode_to_gdf(f\"{formal_city}, USA\")\n",
    "\n",
    "    print(\"boundary defined\")\n",
    "\n",
    "    # Extract all building data within Boston\n",
    "    tags = {\"amenity\": [\"library\", \"fire_station\", \"fast_food\", \"bank\", \"place_of_worship\", \"pharmacy\", \"social_facility\", \"police\", \"community_centre\"],\n",
    "        \"leisure\": [\"park\"],\n",
    "        \"building\": [\"school\", \"hospital\", \"residential\", \"house\", \"apartments\"],\n",
    "           \"landuse\": [\"residential\"]}  # Adjust the tags for other data types\n",
    "    gdf = ox.geometries_from_polygon(city_boundary.geometry[0], tags)\n",
    "\n",
    "    print(\"gdf extracted\")\n",
    "\n",
    "    # Save the data to a file (e.g., GeoJSON)\n",
    "    gdf.to_file(f\"{city}_buildings.geojson\", driver=\"GeoJSON\")"
   ]
  },
  {
   "cell_type": "code",
   "execution_count": 5,
   "id": "d110df40-baed-4412-9498-b50a767b9360",
   "metadata": {},
   "outputs": [],
   "source": [
    "cities = [\"boston\", \"philadelphia\", \"chicago\", \"detroit\", \"neworleans\", \"sanfrancisco\"]\n",
    "formal_cities = [\"Boston, Massachusetts\", \"Philadelphia, Pennsylvania\", \"Chicago, Illinois\",\n",
    "                 \"Detroit, Michigan\", \"New Orleans, Louisiana\", \"San Francisco, California\"]"
   ]
  },
  {
   "cell_type": "code",
   "execution_count": 6,
   "id": "b168d6a3-bd37-4ac3-b867-7783fe5ff59a",
   "metadata": {},
   "outputs": [
    {
     "name": "stdout",
     "output_type": "stream",
     "text": [
      "boundary defined\n"
     ]
    },
    {
     "name": "stderr",
     "output_type": "stream",
     "text": [
      "/tmp/ipykernel_3230875/573625485.py:17: FutureWarning: The `geometries` module and `geometries_from_X` functions have been renamed the `features` module and `features_from_X` functions. Use these instead. The `geometries` module and function names are deprecated and will be removed in the v2.0.0 release. See the OSMnx v2 migration guide: https://github.com/gboeing/osmnx/issues/1123\n",
      "  gdf = ox.geometries_from_polygon(city_boundary.geometry[0], tags)\n"
     ]
    },
    {
     "name": "stdout",
     "output_type": "stream",
     "text": [
      "gdf extracted\n",
      "boston done!\n",
      "boundary defined\n"
     ]
    },
    {
     "name": "stderr",
     "output_type": "stream",
     "text": [
      "/tmp/ipykernel_3230875/573625485.py:17: FutureWarning: The `geometries` module and `geometries_from_X` functions have been renamed the `features` module and `features_from_X` functions. Use these instead. The `geometries` module and function names are deprecated and will be removed in the v2.0.0 release. See the OSMnx v2 migration guide: https://github.com/gboeing/osmnx/issues/1123\n",
      "  gdf = ox.geometries_from_polygon(city_boundary.geometry[0], tags)\n"
     ]
    },
    {
     "name": "stdout",
     "output_type": "stream",
     "text": [
      "gdf extracted\n",
      "philadelphia done!\n",
      "boundary defined\n"
     ]
    },
    {
     "name": "stderr",
     "output_type": "stream",
     "text": [
      "/tmp/ipykernel_3230875/573625485.py:17: FutureWarning: The `geometries` module and `geometries_from_X` functions have been renamed the `features` module and `features_from_X` functions. Use these instead. The `geometries` module and function names are deprecated and will be removed in the v2.0.0 release. See the OSMnx v2 migration guide: https://github.com/gboeing/osmnx/issues/1123\n",
      "  gdf = ox.geometries_from_polygon(city_boundary.geometry[0], tags)\n"
     ]
    },
    {
     "name": "stdout",
     "output_type": "stream",
     "text": [
      "gdf extracted\n",
      "chicago done!\n",
      "boundary defined\n"
     ]
    },
    {
     "name": "stderr",
     "output_type": "stream",
     "text": [
      "/tmp/ipykernel_3230875/573625485.py:17: FutureWarning: The `geometries` module and `geometries_from_X` functions have been renamed the `features` module and `features_from_X` functions. Use these instead. The `geometries` module and function names are deprecated and will be removed in the v2.0.0 release. See the OSMnx v2 migration guide: https://github.com/gboeing/osmnx/issues/1123\n",
      "  gdf = ox.geometries_from_polygon(city_boundary.geometry[0], tags)\n"
     ]
    },
    {
     "name": "stdout",
     "output_type": "stream",
     "text": [
      "gdf extracted\n",
      "detroit done!\n",
      "boundary defined\n"
     ]
    },
    {
     "name": "stderr",
     "output_type": "stream",
     "text": [
      "/tmp/ipykernel_3230875/573625485.py:17: FutureWarning: The `geometries` module and `geometries_from_X` functions have been renamed the `features` module and `features_from_X` functions. Use these instead. The `geometries` module and function names are deprecated and will be removed in the v2.0.0 release. See the OSMnx v2 migration guide: https://github.com/gboeing/osmnx/issues/1123\n",
      "  gdf = ox.geometries_from_polygon(city_boundary.geometry[0], tags)\n"
     ]
    },
    {
     "name": "stdout",
     "output_type": "stream",
     "text": [
      "gdf extracted\n",
      "neworleans done!\n",
      "boundary defined\n"
     ]
    },
    {
     "name": "stderr",
     "output_type": "stream",
     "text": [
      "/tmp/ipykernel_3230875/573625485.py:17: FutureWarning: The `geometries` module and `geometries_from_X` functions have been renamed the `features` module and `features_from_X` functions. Use these instead. The `geometries` module and function names are deprecated and will be removed in the v2.0.0 release. See the OSMnx v2 migration guide: https://github.com/gboeing/osmnx/issues/1123\n",
      "  gdf = ox.geometries_from_polygon(city_boundary.geometry[0], tags)\n"
     ]
    },
    {
     "name": "stdout",
     "output_type": "stream",
     "text": [
      "gdf extracted\n",
      "sanfrancisco done!\n"
     ]
    }
   ],
   "source": [
    "for city, formal_city in zip(cities, formal_cities):\n",
    "    convert_to_geojson(city, formal_city)\n",
    "    print(city, \"done!\")"
   ]
  },
  {
   "cell_type": "code",
   "execution_count": null,
   "id": "05e89914-8eb8-4263-b34a-024acad3df86",
   "metadata": {},
   "outputs": [],
   "source": []
  }
 ],
 "metadata": {
  "kernelspec": {
   "display_name": "Python [conda env:.conda-OOD_env]",
   "language": "python",
   "name": "conda-env-.conda-OOD_env-py"
  },
  "language_info": {
   "codemirror_mode": {
    "name": "ipython",
    "version": 3
   },
   "file_extension": ".py",
   "mimetype": "text/x-python",
   "name": "python",
   "nbconvert_exporter": "python",
   "pygments_lexer": "ipython3",
   "version": "3.11.10"
  }
 },
 "nbformat": 4,
 "nbformat_minor": 5
}
