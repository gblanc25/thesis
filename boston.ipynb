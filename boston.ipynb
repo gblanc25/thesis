{
 "cells": [
  {
   "cell_type": "code",
   "execution_count": null,
   "metadata": {},
   "outputs": [],
   "source": [
    "import pandas as pd\n",
    "import matplotlib.pyplot as plt\n",
    "import seaborn as sns"
   ]
  },
  {
   "cell_type": "code",
   "execution_count": null,
   "metadata": {},
   "outputs": [],
   "source": [
    "land_df = pd.read_csv(\"LandParcels.2023.csv\")"
   ]
  },
  {
   "cell_type": "code",
   "execution_count": null,
   "metadata": {},
   "outputs": [
    {
     "data": {
      "text/plain": [
       "Index(['Unnamed: 0', 'Land_Parcel_ID', 'property_N', 'unit_N', 'unit_N_orig',\n",
       "       'AV_LAND', 'AV_BLDG', 'AV_TOTAL', 'LAND_SF', 'GROSS_AREA',\n",
       "       'LIVING_AREA', 'LU', 'OWN_OCC', 'NUM_FLOORS', 'YR_BUILT', 'YR_REMOD',\n",
       "       'owner_address', 'comcenter', 'medhos', 'supermkt', 'parking', 'vacant',\n",
       "       'rel', 'lib', 'bps', 'police', 'fire', 'private', 'mbta_stop',\n",
       "       'college', 'hlth_cntr', 'sub_house', 'X', 'Y', 'TLID', 'Blk_ID_10',\n",
       "       'BG_ID_10', 'CT_ID_10', 'Blk_ID_20', 'BG_ID_20', 'CT_ID_20', 'NSA_Name',\n",
       "       'BRA_PD', 'full_address'],\n",
       "      dtype='object')"
      ]
     },
     "execution_count": 37,
     "metadata": {},
     "output_type": "execute_result"
    }
   ],
   "source": [
    "land_df.columns"
   ]
  },
  {
   "cell_type": "code",
   "execution_count": null,
   "metadata": {},
   "outputs": [
    {
     "data": {
      "text/plain": [
       "BRA_PD\n",
       "South Dorchester        11975\n",
       "Roxbury                  9887\n",
       "West Roxbury             9690\n",
       "Hyde Park                8506\n",
       "Roslindale               7422\n",
       "Allston/Brighton         7416\n",
       "Mattapan                 6710\n",
       "South Boston             6506\n",
       "East Boston              6394\n",
       "Jamaica Plain            6023\n",
       "North Dorchester         4156\n",
       "South End                3193\n",
       "Charlestown              3026\n",
       "Back Bay/Beacon Hill     2917\n",
       "Central                  2550\n",
       "Fenway/Kenmore           1349\n",
       "Name: count, dtype: int64"
      ]
     },
     "execution_count": 39,
     "metadata": {},
     "output_type": "execute_result"
    }
   ],
   "source": [
    "land_df[\"BRA_PD\"].value_counts()"
   ]
  },
  {
   "cell_type": "code",
   "execution_count": null,
   "metadata": {},
   "outputs": [],
   "source": [
    "columns = ['comcenter', 'medhos', 'supermkt', 'lib', 'bps', 'police']\n",
    "\n",
    "def calculate_use(row):\n",
    "    for loc in columns:\n",
    "        if row[loc]:\n",
    "            return loc\n",
    "    return \"OTHER\"\n",
    "\n",
    "land_df[\"USE\"] = land_df.apply(calculate_use, axis=1)"
   ]
  },
  {
   "cell_type": "code",
   "execution_count": null,
   "metadata": {},
   "outputs": [],
   "source": [
    "neighborhoods = pd.Series(land_df[\"BRA_PD\"].values).dropna().unique()\n",
    "fig, axs = plt.subplots(ncols=3, nrows=6, sharey=False, figsize=(20, 25), dpi=300)\n",
    "params = {'mbta_stop': 'firebrick','bps': 'cornflowerblue','comcenter': 'chocolate',\n",
    "          'medhos': 'palegreen','supermkt': 'indigo','rel': 'forestgreen',\n",
    "          'lib': 'orchid', 'private': 'gold', \n",
    "          'hlth_cntr': 'lightblue',\n",
    "          'OTHER': 'gray', 'police': 'yellow'}\n",
    "for i, neighborhood in enumerate(neighborhoods):\n",
    "    col = i % 3\n",
    "    row = i // 3\n",
    "    sub_df_1 = land_df[(land_df[\"BRA_PD\"] == neighborhood) & (land_df[\"USE\"] != \"OTHER\")]\n",
    "    sub_df_2 = land_df[(land_df[\"BRA_PD\"] == neighborhood) & (land_df[\"USE\"] == \"OTHER\")]\n",
    "    sns.scatterplot(x=sub_df_2[\"X\"], y=sub_df_2[\"Y\"], hue=sub_df_2[\"USE\"], ax=axs[row][col], alpha = 0.05, palette=params)\n",
    "    sns.scatterplot(x=sub_df_1[\"X\"], y=sub_df_1[\"Y\"], hue=sub_df_1[\"USE\"], ax=axs[row][col], palette=params).set_title(neighborhood)\n",
    "\n",
    "plt.tight_layout()"
   ]
  },
  {
   "cell_type": "code",
   "execution_count": null,
   "metadata": {},
   "outputs": [],
   "source": [
    "res_1_fam = [\"R1\"]\n",
    "res_2_fam = [\"R2\"]\n",
    "res_3_plus = [\"R3\", \"R4\", \"RL - RL\", \"A\", \"AH\"]\n",
    "condos = [\"CD\", \"CC\", \"CM\", \"CP\"]\n",
    "industrial = [\"I\"]\n",
    "exempt = [\"E\", \"EA\"]\n",
    "mixed = [\"RC\"]\n",
    "commercial = [\"C\", \"RC\", \"CL\"]\n",
    "\n",
    "def calculate_land_use(row):\n",
    "    el = row[\"LU\"]\n",
    "    if el in res_1_fam:\n",
    "        return \"res_1_fam\"\n",
    "    elif el in res_2_fam:\n",
    "        return \"res_2_fam\"\n",
    "    elif el in res_3_plus:\n",
    "        return \"res_3_plus\"\n",
    "    elif el in condos:\n",
    "        return \"condos\"\n",
    "    elif el in industrial:\n",
    "        return \"industrial\"\n",
    "    elif el in exempt:\n",
    "        return \"exempt\"\n",
    "    elif el in mixed:\n",
    "        return \"mixed\"\n",
    "    elif el in commercial:\n",
    "        return \"commercial\"\n",
    "\n",
    "land_df[\"LAND_USE\"] = land_df.apply(calculate_land_use, axis=1)"
   ]
  },
  {
   "cell_type": "code",
   "execution_count": null,
   "metadata": {},
   "outputs": [],
   "source": [
    "neighborhoods = pd.Series(land_df[\"BRA_PD\"].values).dropna().unique()\n",
    "fig, axs = plt.subplots(ncols=3, nrows=6, sharey=False, figsize=(20, 25), dpi=300)\n",
    "params = {'res_1_fam': 'firebrick','res_2_fam': 'cornflowerblue','res_3_plus': 'chocolate',\n",
    "          'condos': 'palegreen','commercial': 'indigo','industrial': 'gray',\n",
    "          'exempt': 'orchid', 'mixed': 'lightblue'}\n",
    "params_2 = {True: 'black'}\n",
    "for i, neighborhood in enumerate(neighborhoods):\n",
    "    col = i % 3\n",
    "    row = i // 3\n",
    "    sub_df = land_df[(land_df[\"BRA_PD\"] == neighborhood)]\n",
    "    sub_df_2 = land_df[(land_df[\"BRA_PD\"] == neighborhood) & (land_df[\"USE\"] != \"OTHER\")]\n",
    "    sub_df_2.loc[:,\"IS_PS\"] = sub_df_2.loc[:,\"USE\"] != \"OTHER\"\n",
    "    sns.scatterplot(x=sub_df[\"X\"], y=sub_df[\"Y\"], hue=sub_df[\"LAND_USE\"], ax=axs[row][col], alpha = 0.25, palette=params)\n",
    "    sns.scatterplot(x=sub_df[\"X\"], y=sub_df[\"Y\"], hue=sub_df_2[\"IS_PS\"], ax=axs[row][col], alpha = 1, palette=params_2).set_title(neighborhood)\n",
    "\n",
    "plt.tight_layout()"
   ]
  },
  {
   "cell_type": "code",
   "execution_count": null,
   "metadata": {},
   "outputs": [],
   "source": [
    "census_data = pd.read_csv(\"ACS_1519_BLKGRP.csv\")\n",
    "\n",
    "def apply_census(row, column):\n",
    "    try:\n",
    "        return census_data[census_data[\"BG_ID_10\"] == row[\"BG_ID_10\"]].iloc[0][column]\n",
    "    except:\n",
    "        return None\n",
    "land_df[\"med_income\"] = land_df.apply(lambda row: apply_census(row, \"MedHouseIncome\"), axis=1)\n",
    "land_df[\"white\"] = land_df.apply(lambda row: apply_census(row, \"White\"), axis=1)\n",
    "land_df[\"black\"] = land_df.apply(lambda row: apply_census(row, \"Black\"), axis=1)\n",
    "land_df[\"asian\"] = land_df.apply(lambda row: apply_census(row, \"Asian\"), axis=1)"
   ]
  },
  {
   "cell_type": "code",
   "execution_count": null,
   "metadata": {},
   "outputs": [],
   "source": [
    "neighborhood1 = \"Mattapan\"\n",
    "neighborhood2 = \"North Dorchester\"\n",
    "fig, axs = plt.subplots(ncols=1, nrows=1, sharey=False, figsize=(20, 15), dpi=300)\n",
    "params = {'res_1_fam': 'firebrick','res_2_fam': 'cornflowerblue','res_3_plus': 'chocolate',\n",
    "          'condos': 'palegreen','commercial': 'indigo','industrial': 'gray',\n",
    "          'exempt': 'orchid', 'mixed': 'lightblue'}\n",
    "sub_df = land_df[(land_df[\"BRA_PD\"] == neighborhood1) | (land_df[\"BRA_PD\"] == neighborhood2)]\n",
    "sns.scatterplot(x=sub_df[\"X\"], y=sub_df[\"Y\"], hue=sub_df[\"LAND_USE\"], alpha = 0.5, size=land_df[\"med_income\"], palette=params, sizes=(.1, 400))\n",
    "\n",
    "sub_df_2 = land_df[(land_df[\"BRA_PD\"] == neighborhood1) | (land_df[\"BRA_PD\"] == neighborhood2) & (land_df[\"USE\"] != \"OTHER\")]\n",
    "\n",
    "# could probably accomplish via a .apply\n",
    "sub_df_2.loc[:,\"IS_PS\"] = sub_df_2.loc[:,\"USE\"] != \"OTHER\"\n",
    "sns.scatterplot(x=sub_df[\"X\"], y=sub_df[\"Y\"], hue=sub_df_2[\"IS_PS\"], alpha = 1, palette=params_2, markers=['s'], s=150).set_title(neighborhood1 + neighborhood2)\n",
    "\n",
    "plt.tight_layout()"
   ]
  },
  {
   "cell_type": "code",
   "execution_count": null,
   "metadata": {},
   "outputs": [],
   "source": [
    "neighborhoods = pd.Series(land_df[\"BRA_PD\"].values).dropna().unique()\n",
    "fig, axs = plt.subplots(ncols=1, nrows=1, sharey=False, figsize=(20, 15), dpi=300)\n",
    "params = {'res_1_fam': 'firebrick','res_2_fam': 'cornflowerblue','res_3_plus': 'chocolate',\n",
    "          'condos': 'palegreen','commercial': 'indigo','industrial': 'gray',\n",
    "          'exempt': 'orchid', 'mixed': 'lightblue'}\n",
    "\n",
    "params_ps = {'mbta_stop': 'firebrick','bps': 'cornflowerblue','comcenter': 'chocolate',\n",
    "          'medhos': 'palegreen','supermkt': 'white','rel': 'forestgreen',\n",
    "          'lib': 'orchid', 'private': 'gold', \n",
    "          'hlth_cntr': 'lightblue',\n",
    "          'OTHER': 'gray', 'police': 'yellow'}\n",
    "\n",
    "params_2 = {True: 'black'}\n",
    "sub_df_2 = land_df[(land_df[\"USE\"] != \"OTHER\")]\n",
    "sub_df_2.loc[:,\"IS_PS\"] = sub_df_2.loc[:,\"USE\"] != \"OTHER\"\n",
    "\n",
    "temp_df = land_df.sample(frac=0.04)\n",
    "\n",
    "temp_df.rename(columns={\"black\": \"percent_black\"}, inplace=True)\n",
    "sub_df_2.rename(columns={\"USE\": \"AMENITIES vs INCOME and RACE\"}, inplace=True)\n",
    "\n",
    "# sns.scatterplot(x=land_df[\"X\"], y=land_df[\"Y\"], hue=land_df[\"LAND_USE\"], alpha = 0.25, size=land_df[\"med_income\"], palette=params, sizes=(.1, 400))\n",
    "\n",
    "sns.scatterplot(x=temp_df[\"X\"], y=temp_df[\"Y\"], hue=temp_df[\"percent_black\"], alpha = 0.35, size=temp_df[\"med_income\"], sizes=(.01, 500), edgecolor='black')\n",
    "\n",
    "sns.scatterplot(x=land_df[\"X\"], y=land_df[\"Y\"], hue=sub_df_2[\"AMENITIES vs INCOME and RACE\"], alpha = 1, palette=params_ps, edgecolor='black', marker='D')"
   ]
  }
 ],
 "metadata": {
  "kernelspec": {
   "display_name": "Python 3",
   "language": "python",
   "name": "python3"
  },
  "language_info": {
   "codemirror_mode": {
    "name": "ipython",
    "version": 3
   },
   "file_extension": ".py",
   "mimetype": "text/x-python",
   "name": "python",
   "nbconvert_exporter": "python",
   "pygments_lexer": "ipython3",
   "version": "3.12.0"
  }
 },
 "nbformat": 4,
 "nbformat_minor": 2
}
